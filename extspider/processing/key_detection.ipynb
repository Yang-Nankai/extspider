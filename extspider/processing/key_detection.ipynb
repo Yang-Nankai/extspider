{
 "cells": [
  {
   "cell_type": "code",
   "execution_count": null,
   "metadata": {},
   "outputs": [],
   "source": [
    "import os\n",
    "# 更改环境变量\n",
    "os.chdir(\"D:/Ph0Jav7/科研任务/extspider/\")\n",
    "\n",
    "print(os.getcwd())"
   ]
  }
 ],
 "metadata": {
  "language_info": {
   "name": "python"
  }
 },
 "nbformat": 4,
 "nbformat_minor": 2
}
